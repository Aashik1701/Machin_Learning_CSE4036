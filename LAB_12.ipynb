{
  "nbformat": 4,
  "nbformat_minor": 0,
  "metadata": {
    "colab": {
      "provenance": []
    },
    "kernelspec": {
      "name": "python3",
      "display_name": "Python 3"
    },
    "language_info": {
      "name": "python"
    }
  },
  "cells": [
    {
      "cell_type": "code",
      "execution_count": null,
      "metadata": {
        "colab": {
          "base_uri": "https://localhost:8080/"
        },
        "id": "wjtpJ7G9qZk8",
        "outputId": "a493154d-287f-42ae-f5aa-48a0d865d27f"
      },
      "outputs": [
        {
          "output_type": "stream",
          "name": "stdout",
          "text": [
            "   species  island  bill_length_mm  bill_depth_mm  flipper_length_mm  \\\n",
            "0        0       2            39.1           18.7              181.0   \n",
            "1        0       2            39.5           17.4              186.0   \n",
            "2        0       2            40.3           18.0              195.0   \n",
            "4        0       2            36.7           19.3              193.0   \n",
            "5        0       2            39.3           20.6              190.0   \n",
            "\n",
            "   body_mass_g  sex  \n",
            "0       3750.0    1  \n",
            "1       3800.0    0  \n",
            "2       3250.0    0  \n",
            "4       3450.0    0  \n",
            "5       3650.0    1  \n"
          ]
        }
      ],
      "source": [
        "import pandas as pd\n",
        "from sklearn.preprocessing import LabelEncoder\n",
        "\n",
        "# Load the dataset\n",
        "data = pd.read_csv('penguins.csv')\n",
        "\n",
        "# Remove rows with missing values\n",
        "data.dropna(inplace=True)\n",
        "\n",
        "# Initialize the label encoder\n",
        "label_encoder = LabelEncoder()\n",
        "\n",
        "# Encode categorical columns\n",
        "categorical_columns = ['species', 'island', 'sex']\n",
        "for column in categorical_columns:\n",
        "    data[column] = label_encoder.fit_transform(data[column])\n",
        "\n",
        "# Display the first few rows of the processed dataset\n",
        "print(data.head())\n"
      ]
    },
    {
      "cell_type": "code",
      "source": [
        "import pandas as pd\n",
        "from sklearn.model_selection import train_test_split\n",
        "from sklearn.naive_bayes import GaussianNB\n",
        "from sklearn.metrics import confusion_matrix, classification_report\n",
        "\n",
        "# Split the dataset into features (X) and target (y)\n",
        "X = data.drop(columns='species')  # Features (excluding the target column)\n",
        "y = data['species']  # Target (species)\n",
        "\n",
        "# Split the dataset into training and testing sets\n",
        "X_train, X_test, y_train, y_test = train_test_split(X, y, test_size=0.3, random_state=42)\n",
        "\n",
        "# Apply Gaussian Naive Bayes classifier\n",
        "gnb = GaussianNB()\n",
        "gnb.fit(X_train, y_train)\n",
        "\n",
        "# Predict the labels for the test set\n",
        "y_pred = gnb.predict(X_test)\n",
        "\n",
        "# Confusion matrix\n",
        "conf_matrix = confusion_matrix(y_test, y_pred)\n",
        "print(\"Confusion Matrix:\")\n",
        "print(conf_matrix)\n",
        "\n",
        "# Classification report (includes precision, recall, f1-score)\n",
        "print(\"Classification Report:\")\n",
        "print(classification_report(y_test, y_pred))\n",
        "\n",
        "# Frequency table and likelihood (GaussianNB assumes Gaussian likelihoods)\n",
        "# For each feature, we can display the means and variances for each class\n",
        "means = gnb.theta_  # Means for each class and feature\n",
        "variances = gnb.var_  # Variances for each class and feature\n",
        "\n",
        "print(\"Means (Likelihoods) for each class:\")\n",
        "print(means)\n",
        "print(\"\\nVariances (Likelihoods) for each class:\")\n",
        "print(variances)\n"
      ],
      "metadata": {
        "colab": {
          "base_uri": "https://localhost:8080/"
        },
        "id": "yDaKu6y-xkCL",
        "outputId": "d834ff52-fef8-4d1d-97a3-b593f3a399cf"
      },
      "execution_count": null,
      "outputs": [
        {
          "output_type": "stream",
          "name": "stdout",
          "text": [
            "Confusion Matrix:\n",
            "[[46  2  0]\n",
            " [ 1 22  0]\n",
            " [ 0  0 29]]\n",
            "Classification Report:\n",
            "              precision    recall  f1-score   support\n",
            "\n",
            "           0       0.98      0.96      0.97        48\n",
            "           1       0.92      0.96      0.94        23\n",
            "           2       1.00      1.00      1.00        29\n",
            "\n",
            "    accuracy                           0.97       100\n",
            "   macro avg       0.97      0.97      0.97       100\n",
            "weighted avg       0.97      0.97      0.97       100\n",
            "\n",
            "Means (Likelihoods) for each class:\n",
            "[[9.89795918e-01 3.89295918e+01 1.82765306e+01 1.90112245e+02\n",
            "  3.67525510e+03 4.89795918e-01]\n",
            " [1.00000000e+00 4.87933333e+01 1.83888889e+01 1.95466667e+02\n",
            "  3.73833333e+03 4.66666667e-01]\n",
            " [0.00000000e+00 4.76211111e+01 1.49900000e+01 2.17477778e+02\n",
            "  5.10111111e+03 5.55555556e-01]]\n",
            "\n",
            "Variances (Likelihoods) for each class:\n",
            "[[6.02626516e-01 7.68522231e+00 1.39146554e+00 4.33656419e+01\n",
            "  2.23360905e+05 2.50585700e-01]\n",
            " [6.89823146e-04 1.12217565e+01 1.17234414e+00 5.39829120e+01\n",
            "  1.65905556e+05 2.49578712e-01]\n",
            " [6.89823146e-04 9.87613303e+00 9.36478712e-01 4.36279738e+01\n",
            "  2.45082099e+05 2.47603403e-01]]\n"
          ]
        }
      ]
    },
    {
      "cell_type": "code",
      "source": [
        "from sklearn.naive_bayes import MultinomialNB\n",
        "\n",
        "# Apply Multinomial Naive Bayes classifier\n",
        "mnb = MultinomialNB()\n",
        "mnb.fit(X_train, y_train)\n",
        "\n",
        "# Predict the labels for the test set\n",
        "y_pred_mnb = mnb.predict(X_test)\n",
        "\n",
        "# Confusion matrix\n",
        "conf_matrix_mnb = confusion_matrix(y_test, y_pred_mnb)\n",
        "print(\"Confusion Matrix (Multinomial NB):\")\n",
        "print(conf_matrix_mnb)\n",
        "\n",
        "# Classification report\n",
        "print(\"Classification Report (Multinomial NB):\")\n",
        "print(classification_report(y_test, y_pred_mnb))\n"
      ],
      "metadata": {
        "colab": {
          "base_uri": "https://localhost:8080/"
        },
        "id": "pOf326myx1Ra",
        "outputId": "0a5dc3d8-6279-45d4-f4bc-e2842d8e7df9"
      },
      "execution_count": null,
      "outputs": [
        {
          "output_type": "stream",
          "name": "stdout",
          "text": [
            "Confusion Matrix (Multinomial NB):\n",
            "[[44  2  2]\n",
            " [ 9 14  0]\n",
            " [ 1  0 28]]\n",
            "Classification Report (Multinomial NB):\n",
            "              precision    recall  f1-score   support\n",
            "\n",
            "           0       0.81      0.92      0.86        48\n",
            "           1       0.88      0.61      0.72        23\n",
            "           2       0.93      0.97      0.95        29\n",
            "\n",
            "    accuracy                           0.86       100\n",
            "   macro avg       0.87      0.83      0.84       100\n",
            "weighted avg       0.86      0.86      0.85       100\n",
            "\n"
          ]
        }
      ]
    },
    {
      "cell_type": "code",
      "source": [
        "from sklearn.naive_bayes import BernoulliNB\n",
        "from sklearn.preprocessing import Binarizer\n",
        "\n",
        "# Apply binarization to the features (convert continuous values to binary)\n",
        "binarizer = Binarizer()\n",
        "X_bin = binarizer.fit_transform(X)\n",
        "\n",
        "# Split the binarized dataset\n",
        "X_train_bin, X_test_bin, y_train_bin, y_test_bin = train_test_split(X_bin, y, test_size=0.3, random_state=42)\n",
        "\n",
        "# Apply Bernoulli Naive Bayes classifier\n",
        "bnb = BernoulliNB()\n",
        "bnb.fit(X_train_bin, y_train_bin)\n",
        "\n",
        "# Predict the labels for the test set\n",
        "y_pred_bnb = bnb.predict(X_test_bin)\n",
        "\n",
        "# Confusion matrix\n",
        "conf_matrix_bnb = confusion_matrix(y_test_bin, y_pred_bnb)\n",
        "print(\"Confusion Matrix (Bernoulli NB):\")\n",
        "print(conf_matrix_bnb)\n",
        "\n",
        "# Classification report\n",
        "print(\"Classification Report (Bernoulli NB):\")\n",
        "print(classification_report(y_test_bin, y_pred_bnb))\n"
      ],
      "metadata": {
        "colab": {
          "base_uri": "https://localhost:8080/"
        },
        "id": "09L0RxxAx3OC",
        "outputId": "498c8c09-15dd-423a-fe0f-f5d1adc27419"
      },
      "execution_count": null,
      "outputs": [
        {
          "output_type": "stream",
          "name": "stdout",
          "text": [
            "Confusion Matrix (Bernoulli NB):\n",
            "[[34  0 14]\n",
            " [23  0  0]\n",
            " [ 0  0 29]]\n",
            "Classification Report (Bernoulli NB):\n",
            "              precision    recall  f1-score   support\n",
            "\n",
            "           0       0.60      0.71      0.65        48\n",
            "           1       0.00      0.00      0.00        23\n",
            "           2       0.67      1.00      0.81        29\n",
            "\n",
            "    accuracy                           0.63       100\n",
            "   macro avg       0.42      0.57      0.48       100\n",
            "weighted avg       0.48      0.63      0.54       100\n",
            "\n"
          ]
        },
        {
          "output_type": "stream",
          "name": "stderr",
          "text": [
            "/usr/local/lib/python3.10/dist-packages/sklearn/metrics/_classification.py:1531: UndefinedMetricWarning: Precision is ill-defined and being set to 0.0 in labels with no predicted samples. Use `zero_division` parameter to control this behavior.\n",
            "  _warn_prf(average, modifier, f\"{metric.capitalize()} is\", len(result))\n",
            "/usr/local/lib/python3.10/dist-packages/sklearn/metrics/_classification.py:1531: UndefinedMetricWarning: Precision is ill-defined and being set to 0.0 in labels with no predicted samples. Use `zero_division` parameter to control this behavior.\n",
            "  _warn_prf(average, modifier, f\"{metric.capitalize()} is\", len(result))\n",
            "/usr/local/lib/python3.10/dist-packages/sklearn/metrics/_classification.py:1531: UndefinedMetricWarning: Precision is ill-defined and being set to 0.0 in labels with no predicted samples. Use `zero_division` parameter to control this behavior.\n",
            "  _warn_prf(average, modifier, f\"{metric.capitalize()} is\", len(result))\n"
          ]
        }
      ]
    },
    {
      "cell_type": "code",
      "source": [
        "# Example: Creating boolean parameters by thresholding a feature (e.g., bill_length_mm > 40)\n",
        "X['bill_length_bool'] = (X['bill_length_mm'] > 40).astype(int)\n",
        "\n",
        "# Now, split the dataset again\n",
        "X_train_bool, X_test_bool, y_train_bool, y_test_bool = train_test_split(X[['bill_length_bool']], y, test_size=0.3, random_state=42)\n",
        "\n",
        "# Apply Bernoulli Naive Bayes for boolean features\n",
        "bnb_bool = BernoulliNB()\n",
        "bnb_bool.fit(X_train_bool, y_train_bool)\n",
        "\n",
        "# Predict the labels for the test set\n",
        "y_pred_bnb_bool = bnb_bool.predict(X_test_bool)\n",
        "\n",
        "# Confusion matrix\n",
        "conf_matrix_bnb_bool = confusion_matrix(y_test_bool, y_pred_bnb_bool)\n",
        "print(\"Confusion Matrix (Bernoulli NB with Boolean Feature):\")\n",
        "print(conf_matrix_bnb_bool)\n",
        "\n",
        "# Classification report\n",
        "print(\"Classification Report (Bernoulli NB with Boolean Feature):\")\n",
        "print(classification_report(y_test_bool, y_pred_bnb_bool))\n"
      ],
      "metadata": {
        "colab": {
          "base_uri": "https://localhost:8080/"
        },
        "id": "KRW3U-9ox5y7",
        "outputId": "906efd21-1d57-4257-e6bd-05240aa375c8"
      },
      "execution_count": null,
      "outputs": [
        {
          "output_type": "stream",
          "name": "stdout",
          "text": [
            "Confusion Matrix (Bernoulli NB with Boolean Feature):\n",
            "[[32  0 16]\n",
            " [ 0  0 23]\n",
            " [ 0  0 29]]\n",
            "Classification Report (Bernoulli NB with Boolean Feature):\n",
            "              precision    recall  f1-score   support\n",
            "\n",
            "           0       1.00      0.67      0.80        48\n",
            "           1       0.00      0.00      0.00        23\n",
            "           2       0.43      1.00      0.60        29\n",
            "\n",
            "    accuracy                           0.61       100\n",
            "   macro avg       0.48      0.56      0.47       100\n",
            "weighted avg       0.60      0.61      0.56       100\n",
            "\n"
          ]
        },
        {
          "output_type": "stream",
          "name": "stderr",
          "text": [
            "/usr/local/lib/python3.10/dist-packages/sklearn/metrics/_classification.py:1531: UndefinedMetricWarning: Precision is ill-defined and being set to 0.0 in labels with no predicted samples. Use `zero_division` parameter to control this behavior.\n",
            "  _warn_prf(average, modifier, f\"{metric.capitalize()} is\", len(result))\n",
            "/usr/local/lib/python3.10/dist-packages/sklearn/metrics/_classification.py:1531: UndefinedMetricWarning: Precision is ill-defined and being set to 0.0 in labels with no predicted samples. Use `zero_division` parameter to control this behavior.\n",
            "  _warn_prf(average, modifier, f\"{metric.capitalize()} is\", len(result))\n",
            "/usr/local/lib/python3.10/dist-packages/sklearn/metrics/_classification.py:1531: UndefinedMetricWarning: Precision is ill-defined and being set to 0.0 in labels with no predicted samples. Use `zero_division` parameter to control this behavior.\n",
            "  _warn_prf(average, modifier, f\"{metric.capitalize()} is\", len(result))\n"
          ]
        }
      ]
    }
  ]
}